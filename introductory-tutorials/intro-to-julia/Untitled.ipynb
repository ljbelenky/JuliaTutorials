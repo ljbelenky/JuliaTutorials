{
 "cells": [
  {
   "cell_type": "code",
   "execution_count": 19,
   "metadata": {},
   "outputs": [
    {
     "data": {
      "text/plain": [
       "3×3 Array{Float64,2}:\n",
       " 0.00471475  0.38788    0.773231\n",
       " 0.227302    0.0421785  0.829372\n",
       " 0.754483    0.659992   0.463219"
      ]
     },
     "execution_count": 19,
     "metadata": {},
     "output_type": "execute_result"
    }
   ],
   "source": [
    "L = rand(3,3)"
   ]
  },
  {
   "cell_type": "code",
   "execution_count": 21,
   "metadata": {},
   "outputs": [
    {
     "data": {
      "text/plain": [
       "3×3 Array{Float64,2}:\n",
       " 0.00471475  0.0        0.0\n",
       " 0.227302    0.0421785  0.0\n",
       " 0.754483    0.659992   0.463219"
      ]
     },
     "execution_count": 21,
     "metadata": {},
     "output_type": "execute_result"
    }
   ],
   "source": [
    "for i in 1:size(L)[1]\n",
    "    for j in 1:size(L)[2]\n",
    "        if i < j\n",
    "            L[i,j] = 0 end\n",
    "    end\n",
    "end\n",
    "L"
   ]
  },
  {
   "cell_type": "code",
   "execution_count": 22,
   "metadata": {},
   "outputs": [
    {
     "data": {
      "text/plain": [
       "3×3 Array{Float64,2}:\n",
       " 0.392592  0.0666161  0.879457\n",
       " 0.0       0.178229   0.241186\n",
       " 0.0       0.0        0.191792"
      ]
     },
     "execution_count": 22,
     "metadata": {},
     "output_type": "execute_result"
    }
   ],
   "source": [
    "U = rand(3,3)\n",
    "for i in 1:size(U)[1]\n",
    "    for j in 1:size(U)[2]\n",
    "        if i>j\n",
    "            U[i,j] = 0\n",
    "        end\n",
    "    end\n",
    "end\n",
    "U"
   ]
  },
  {
   "cell_type": "code",
   "execution_count": 23,
   "metadata": {},
   "outputs": [
    {
     "data": {
      "text/plain": [
       "3×3 Array{Float64,2}:\n",
       " 0.680529  0.583245  0.407381\n",
       " 0.222483  0.166698  0.111722\n",
       " 0.144704  0.126581  0.0888417"
      ]
     },
     "execution_count": 23,
     "metadata": {},
     "output_type": "execute_result"
    }
   ],
   "source": [
    "A = U*L"
   ]
  },
  {
   "cell_type": "code",
   "execution_count": null,
   "metadata": {},
   "outputs": [],
   "source": []
  }
 ],
 "metadata": {
  "kernelspec": {
   "display_name": "Julia 1.5.2",
   "language": "julia",
   "name": "julia-1.5"
  },
  "language_info": {
   "file_extension": ".jl",
   "mimetype": "application/julia",
   "name": "julia",
   "version": "1.5.2"
  }
 },
 "nbformat": 4,
 "nbformat_minor": 4
}
